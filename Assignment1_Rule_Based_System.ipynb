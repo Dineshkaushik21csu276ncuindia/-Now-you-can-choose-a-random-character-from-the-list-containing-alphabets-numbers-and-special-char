{
  "nbformat": 4,
  "nbformat_minor": 0,
  "metadata": {
    "colab": {
      "provenance": [],
      "include_colab_link": true
    },
    "kernelspec": {
      "name": "python3",
      "display_name": "Python 3"
    },
    "language_info": {
      "name": "python"
    }
  },
  "cells": [
    {
      "cell_type": "markdown",
      "metadata": {
        "id": "view-in-github",
        "colab_type": "text"
      },
      "source": [
        "<a href=\"https://colab.research.google.com/github/Dineshkaushik21csu276ncuindia/-Now-you-can-choose-a-random-character-from-the-list-containing-alphabets-numbers-and-special-char/blob/main/Assignment1_Rule_Based_System.ipynb\" target=\"_parent\"><img src=\"https://colab.research.google.com/assets/colab-badge.svg\" alt=\"Open In Colab\"/></a>"
      ]
    },
    {
      "cell_type": "markdown",
      "source": [
        "<b>The Problem Statement</b>:\n",
        "\n",
        "You are tasked with creating a simple rule-based pet care assistant in Python. The goal is to develop a basic program that provides helpful reminders and suggestions for taking care of different types of pets, such as dogs, cats, and birds, based on predefined rules.\n",
        "\n",
        "<b>Some Rules to get you started</b>:\n",
        "\n",
        "*Example of a rule for dogs:* If the dog is a puppy (i.e. less than 2 years old) frequent training may be needed.\n",
        "\n",
        "*Example of a rule for cats:* If the cat's health is poor one may needed onitor their cat closely and consult a vet for any health issues."
      ],
      "metadata": {
        "id": "5r2msEl9py3R"
      }
    },
    {
      "cell_type": "markdown",
      "source": [
        "## The Code"
      ],
      "metadata": {
        "id": "hi0nFuvoppT9"
      }
    },
    {
      "cell_type": "markdown",
      "source": [
        "### Function to get the user's pet choice"
      ],
      "metadata": {
        "id": "WZrvsX8_ri3a"
      }
    },
    {
      "cell_type": "code",
      "source": [
        "# Function to get the user's pet choice\n",
        "def get_pet_choice():\n",
        "    \"\"\"\n",
        "    TODO: Implement this function to display the pet options and return the user's choice.\n",
        "    The function should prompt the user to select the type of pet (e.g., dog, cat, bird) and\n",
        "    return the corresponding number representing the pet type.\n",
        "    \"\"\"\n",
        "    pass"
      ],
      "metadata": {
        "id": "eZOS63c-rij3"
      },
      "execution_count": null,
      "outputs": []
    },
    {
      "cell_type": "markdown",
      "source": [
        "### Function to get pet's age and health as input from user"
      ],
      "metadata": {
        "id": "ih-mnNqnvI6N"
      }
    },
    {
      "cell_type": "code",
      "source": [
        "\n",
        "# Function to get the pet's age from the user\n",
        "def get_pet_age():\n",
        "    \"\"\"\n",
        "    TODO: Implement this function to get the pet's age from the user.\n",
        "    The function should prompt the user to enter the pet's age in years and\n",
        "    return the entered value as an integer.\n",
        "    \"\"\"\n",
        "    pass"
      ],
      "metadata": {
        "id": "bOmAKcsmvGkM"
      },
      "execution_count": null,
      "outputs": []
    },
    {
      "cell_type": "code",
      "source": [
        "# Function to get the pet's health status from the user\n",
        "def get_pet_health():\n",
        "    \"\"\"\n",
        "    TODO: Implement this function to get the pet's health status from the user.\n",
        "    The function should prompt the user to select the health status (e.g., good, fair, poor) and\n",
        "    return the corresponding number representing the health status.\n",
        "    \"\"\"\n",
        "    pass"
      ],
      "metadata": {
        "id": "31-njL3fvIEn"
      },
      "execution_count": null,
      "outputs": []
    },
    {
      "cell_type": "markdown",
      "source": [
        "### Function for rules for providing pet care tips"
      ],
      "metadata": {
        "id": "10mIZiAxrIWD"
      }
    },
    {
      "cell_type": "code",
      "execution_count": null,
      "metadata": {
        "id": "EIpHv9ckpYzh"
      },
      "outputs": [],
      "source": [
        "# Function to provide pet care tips based on the user's choice, age, and health\n",
        "def provide_pet_care_tips(pet_choice, pet_age, pet_health):\n",
        "    \"\"\"\n",
        "    TODO: Implement this function to provide pet care tips based on the user's choices.\n",
        "    The function should take the pet_choice (representing the type of pet), pet_age (in years),\n",
        "    and pet_health (representing the health status) as inputs and print relevant care tips based on those.\n",
        "    \"\"\"\n",
        "    pass\n"
      ]
    },
    {
      "cell_type": "markdown",
      "source": [
        "### Main function to run the pet care assistant"
      ],
      "metadata": {
        "id": "GIJtbG2UrtJM"
      }
    },
    {
      "cell_type": "code",
      "source": [
        "# Main function to run the pet care assistant\n",
        "def pet_care_assistant():\n",
        "    \"\"\"\n",
        "    TODO: Implement this function as the entry point to the pet care assistant program.\n",
        "    The function should call the get_pet_choice(), get_pet_age(), and get_pet_health() functions\n",
        "    to collect the necessary information from the user. Then, it should call the provide_pet_care_tips()\n",
        "    function to provide personalized care tips based on the user's inputs.\n",
        "    \"\"\"\n",
        "    pass"
      ],
      "metadata": {
        "id": "Sfqbwb0du179"
      },
      "execution_count": null,
      "outputs": []
    },
    {
      "cell_type": "code",
      "source": [
        "# Run the program\n",
        "if __name__ == \"__main__\":\n",
        "    pet_care_assistant()  # Start the pet care assistant"
      ],
      "metadata": {
        "id": "Bm-vnwCvrxy4"
      },
      "execution_count": null,
      "outputs": []
    }
  ]
}